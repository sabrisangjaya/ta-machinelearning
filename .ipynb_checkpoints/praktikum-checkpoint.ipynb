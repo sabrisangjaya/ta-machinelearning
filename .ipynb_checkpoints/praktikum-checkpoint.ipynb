{
 "cells": [
  {
   "cell_type": "code",
   "execution_count": 1,
   "metadata": {
    "ExecuteTime": {
     "end_time": "2019-10-21T04:34:37.894065Z",
     "start_time": "2019-10-21T04:33:54.263654Z"
    }
   },
   "outputs": [
    {
     "data": {
      "text/plain": [
       "<Figure size 640x480 with 1 Axes>"
      ]
     },
     "metadata": {},
     "output_type": "display_data"
    },
    {
     "data": {
      "text/plain": [
       "<Figure size 640x480 with 1 Axes>"
      ]
     },
     "metadata": {},
     "output_type": "display_data"
    }
   ],
   "source": [
    "import numpy as np\n",
    "import pandas as pd\n",
    "import matplotlib.pyplot as plt\n",
    "from matplotlib.colors import ListedColormap\n",
    "from sklearn import neighbors, datasets\n",
    "k_neighbors = 3\n",
    "# persiapkan data input dan label nya\n",
    "feature = np.array([[7,3], [1,10], [5,5], [2,1], [3,3], [2,7],[17,14], [6,8], [7,5], [3,6]])\n",
    "X = feature[:-1]\n",
    "y = np.array([1, 1, 1, 2, 2, 0, 1, 0, 0])\n",
    "h = .02 # step size in the mesh\n",
    "# pemetaan warna untuk plot\n",
    "cmap_light = ListedColormap(['#FFAAAA', '#AAFFAA', '#AAAAFF'])\n",
    "cmap_bold = ListedColormap(['#FF0000', '#00FF00', '#0000FF'])\n",
    "for weights in ['uniform', 'distance']:\n",
    "    # we create an instance of Neighbours Classifier and fit the data.\n",
    "    clf = neighbors.KNeighborsClassifier(k_neighbors, weights=weights)\n",
    "    clf.fit(X, y)\n",
    "\n",
    "    # Plot the decision boundary. For that, we will assign a color to each\n",
    "    # point in the mesh [x_min, x_max]x[y_min, y_max].\n",
    "    x_min, x_max = X[:, 0].min() - 1, X[:, 0].max() + 1\n",
    "    y_min, y_max = X[:, 1].min() - 1, X[:, 1].max() + 1\n",
    "    xx, yy = np.meshgrid(np.arange(x_min, x_max, h),\n",
    "                         np.arange(y_min, y_max, h))\n",
    "    Z = clf.predict(np.c_[xx.ravel(), yy.ravel()])\n",
    "\n",
    "    # Put the result into a color plot\n",
    "    Z = Z.reshape(xx.shape)\n",
    "    plt.figure()\n",
    "    plt.pcolormesh(xx, yy, Z, cmap=cmap_light)\n",
    "\n",
    "    # Plot also the training points\n",
    "    plt.scatter(X[:, 0], X[:, 1], c=y, cmap=cmap_bold,\n",
    "                edgecolor='k', s=20)\n",
    "    plt.xlim(xx.min(), xx.max())\n",
    "    plt.ylim(yy.min(), yy.max())\n",
    "    plt.title(\"3-Class classification (k = %i, weights = '%s')\"% (k_neighbors, weights))\n",
    "\n",
    "plt.show()"
   ]
  },
  {
   "cell_type": "code",
   "execution_count": 1,
   "metadata": {
    "ExecuteTime": {
     "end_time": "2019-10-27T19:25:10.254091Z",
     "start_time": "2019-10-27T19:23:14.375039Z"
    }
   },
   "outputs": [
    {
     "name": "stdout",
     "output_type": "stream",
     "text": [
      "K =  3\n"
     ]
    },
    {
     "name": "stderr",
     "output_type": "stream",
     "text": [
      "C:\\ProgramData\\Anaconda3\\lib\\site-packages\\sklearn\\metrics\\classification.py:1437: UndefinedMetricWarning: Precision is ill-defined and being set to 0.0 in labels with no predicted samples.\n",
      "  'precision', 'predicted', average, warn_for)\n"
     ]
    },
    {
     "name": "stdout",
     "output_type": "stream",
     "text": [
      "s1 :  [0.11991474 0.02011494 0.02679151 0.21525911 0.17567442]\n",
      "s2 :  [0.17182959 0.0160001  0.02020068 0.12732295 0.1864007 ]\n",
      "s3 :  [0.20812132 0.01790462 0.02110702 0.12747589 0.23670776]\n",
      "K =  5\n"
     ]
    },
    {
     "name": "stderr",
     "output_type": "stream",
     "text": [
      "C:\\ProgramData\\Anaconda3\\lib\\site-packages\\sklearn\\metrics\\classification.py:1437: UndefinedMetricWarning: Precision is ill-defined and being set to 0.0 in labels with no predicted samples.\n",
      "  'precision', 'predicted', average, warn_for)\n"
     ]
    },
    {
     "name": "stdout",
     "output_type": "stream",
     "text": [
      "s1 :  [0.117598   0.01965146 0.03216835 0.214981   0.13766571]\n",
      "s2 :  [0.16616385 0.01486254 0.02392242 0.12679435 0.22923558]\n",
      "s3 :  [0.18369487 0.01720271 0.0233667  0.12744579 0.23261239]\n",
      "K =  7\n"
     ]
    },
    {
     "name": "stderr",
     "output_type": "stream",
     "text": [
      "C:\\ProgramData\\Anaconda3\\lib\\site-packages\\sklearn\\metrics\\classification.py:1437: UndefinedMetricWarning: Precision is ill-defined and being set to 0.0 in labels with no predicted samples.\n",
      "  'precision', 'predicted', average, warn_for)\n"
     ]
    },
    {
     "name": "stdout",
     "output_type": "stream",
     "text": [
      "s1 :  [0.10073209 0.02159807 0.0332808  0.21433207 0.08389728]\n",
      "s2 :  [0.16239259 0.01481895 0.02435429 0.12605961 0.23440101]\n",
      "s3 :  [0.18705261 0.01821664 0.02353814 0.13312686 0.18354984]\n",
      "K =  9\n"
     ]
    },
    {
     "name": "stderr",
     "output_type": "stream",
     "text": [
      "C:\\ProgramData\\Anaconda3\\lib\\site-packages\\sklearn\\metrics\\classification.py:1437: UndefinedMetricWarning: Precision is ill-defined and being set to 0.0 in labels with no predicted samples.\n",
      "  'precision', 'predicted', average, warn_for)\n"
     ]
    },
    {
     "name": "stdout",
     "output_type": "stream",
     "text": [
      "s1 :  [0.10026874 0.02233964 0.03800871 0.21321962 0.14823399]\n",
      "s2 :  [0.16161519 0.01613313 0.02924119 0.12509703 0.21906974]\n",
      "s3 :  [0.1825905  0.0191771  0.02546511 0.13473999 0.23144881]\n",
      "K =  11\n"
     ]
    },
    {
     "name": "stderr",
     "output_type": "stream",
     "text": [
      "C:\\ProgramData\\Anaconda3\\lib\\site-packages\\sklearn\\metrics\\classification.py:1437: UndefinedMetricWarning: Precision is ill-defined and being set to 0.0 in labels with no predicted samples.\n",
      "  'precision', 'predicted', average, warn_for)\n"
     ]
    },
    {
     "name": "stdout",
     "output_type": "stream",
     "text": [
      "s1 :  [0.14085812 0.02326659 0.03865764 0.21368314 0.18383239]\n",
      "s2 :  [0.16718527 0.01684135 0.0295399  0.12539323 0.20662415]\n",
      "s3 :  [0.1668707  0.02049707 0.02590439 0.15196292 0.21656704]\n",
      "K =  13\n"
     ]
    },
    {
     "name": "stderr",
     "output_type": "stream",
     "text": [
      "C:\\ProgramData\\Anaconda3\\lib\\site-packages\\sklearn\\metrics\\classification.py:1437: UndefinedMetricWarning: Precision is ill-defined and being set to 0.0 in labels with no predicted samples.\n",
      "  'precision', 'predicted', average, warn_for)\n"
     ]
    },
    {
     "name": "stdout",
     "output_type": "stream",
     "text": [
      "s1 :  [0.15679733 0.02382277 0.03865764 0.2128488  0.1862427 ]\n",
      "s2 :  [0.17636381 0.01703498 0.02881798 0.12439405 0.20903764]\n",
      "s3 :  [0.18096988 0.02109786 0.02593695 0.13572933 0.24380838]\n",
      "K =  15\n"
     ]
    },
    {
     "name": "stderr",
     "output_type": "stream",
     "text": [
      "C:\\ProgramData\\Anaconda3\\lib\\site-packages\\sklearn\\metrics\\classification.py:1437: UndefinedMetricWarning: Precision is ill-defined and being set to 0.0 in labels with no predicted samples.\n",
      "  'precision', 'predicted', average, warn_for)\n"
     ]
    },
    {
     "name": "stdout",
     "output_type": "stream",
     "text": [
      "s1 :  [0.15587063 0.02474972 0.03902846 0.21257069 0.17011217]\n",
      "s2 :  [0.17344792 0.0179491  0.02903998 0.12391379 0.19713199]\n",
      "s3 :  [0.16985141 0.02213276 0.02631911 0.12039027 0.20336088]\n",
      "K =  17\n"
     ]
    },
    {
     "name": "stderr",
     "output_type": "stream",
     "text": [
      "C:\\ProgramData\\Anaconda3\\lib\\site-packages\\sklearn\\metrics\\classification.py:1437: UndefinedMetricWarning: Precision is ill-defined and being set to 0.0 in labels with no predicted samples.\n",
      "  'precision', 'predicted', average, warn_for)\n"
     ]
    },
    {
     "name": "stdout",
     "output_type": "stream",
     "text": [
      "s1 :  [0.13687332 0.02539859 0.03921387 0.2129415  0.17446927]\n",
      "s2 :  [0.15742128 0.01773556 0.02906003 0.12389609 0.18630666]\n",
      "s3 :  [0.11348786 0.02267343 0.0264648  0.12153515 0.20033321]\n",
      "K =  19\n"
     ]
    },
    {
     "name": "stderr",
     "output_type": "stream",
     "text": [
      "C:\\ProgramData\\Anaconda3\\lib\\site-packages\\sklearn\\metrics\\classification.py:1437: UndefinedMetricWarning: Precision is ill-defined and being set to 0.0 in labels with no predicted samples.\n",
      "  'precision', 'predicted', average, warn_for)\n"
     ]
    },
    {
     "name": "stdout",
     "output_type": "stream",
     "text": [
      "s1 :  [0.137244   0.02586207 0.04069714 0.2127561  0.17326411]\n",
      "s2 :  [0.15672567 0.01666068 0.02940283 0.12326997 0.18462878]\n",
      "s3 :  [0.11369985 0.02275889 0.02737622 0.1179205  0.19133094]\n",
      "K =  21\n"
     ]
    },
    {
     "name": "stderr",
     "output_type": "stream",
     "text": [
      "C:\\ProgramData\\Anaconda3\\lib\\site-packages\\sklearn\\metrics\\classification.py:1437: UndefinedMetricWarning: Precision is ill-defined and being set to 0.0 in labels with no predicted samples.\n",
      "  'precision', 'predicted', average, warn_for)\n"
     ]
    },
    {
     "name": "stdout",
     "output_type": "stream",
     "text": [
      "s1 :  [0.11704198 0.02623285 0.04134606 0.21238528 0.17326411]\n",
      "s2 :  [0.15657388 0.01682018 0.02911831 0.12294352 0.18543292]\n",
      "s3 :  [0.12520826 0.02316651 0.02720859 0.11898501 0.19663792]\n",
      "K =  23\n"
     ]
    },
    {
     "name": "stderr",
     "output_type": "stream",
     "text": [
      "C:\\ProgramData\\Anaconda3\\lib\\site-packages\\sklearn\\metrics\\classification.py:1437: UndefinedMetricWarning: Precision is ill-defined and being set to 0.0 in labels with no predicted samples.\n",
      "  'precision', 'predicted', average, warn_for)\n"
     ]
    },
    {
     "name": "stdout",
     "output_type": "stream",
     "text": [
      "s1 :  [0.12121212 0.02688172 0.04153147 0.21201446 0.17159544]\n",
      "s2 :  [0.16979457 0.01724381 0.0292475  0.12264878 0.18419192]\n",
      "s3 :  [0.20784294 0.0239894  0.02758327 0.11245717 0.18923839]\n",
      "K =  25\n"
     ]
    },
    {
     "name": "stderr",
     "output_type": "stream",
     "text": [
      "C:\\ProgramData\\Anaconda3\\lib\\site-packages\\sklearn\\metrics\\classification.py:1437: UndefinedMetricWarning: Precision is ill-defined and being set to 0.0 in labels with no predicted samples.\n",
      "  'precision', 'predicted', average, warn_for)\n"
     ]
    },
    {
     "name": "stdout",
     "output_type": "stream",
     "text": [
      "s1 :  [0.11407655 0.02790137 0.04180959 0.21173635 0.17261518]\n",
      "s2 :  [0.16814099 0.01782694 0.02945946 0.1226187  0.18394575]\n",
      "s3 :  [0.2091953  0.02478396 0.02787573 0.11417914 0.1827241 ]\n"
     ]
    },
    {
     "data": {
      "text/plain": [
       "'\\n# average can take values from \\'macro\\', \\'micro\\', \\'weighted\\' etc as specified above\\nscorer = make_scorer(recall_score, pos_label=None, average=\\'macro\\')\\nresults = model_selection.cross_val_score(estimator, X, Y, cv= kfold,\\n                                          scoring= scorer)\\n\\n\\nfrom sklearn.model_selection import KFold\\nfrom sklearn.metrics import mean_squared_error, r2_score\\n\\nr2_scores = []\\nMSE_scores = []\\nkf = KFold(n_splits=5)\\nfor train_index, test_index in kf.split(X):\\n    X_train, X_test = X[train_index], X[test_index]\\n    y_train, y_test = y[train_index], y[test_index]\\n    model.fit(X_train, y_train)\\n    y_pred = model.predict(X_test)\\n    r2_scores.append(r2_score(y_pred, y_test))\\n    MSE_scores.append(mean_squared_error(y_pred, y_test))\\nprint(\"KFold R2:\",r2_scores)\\nprint(\"KFold MSE:\",MSE_scores)\\n'"
      ]
     },
     "execution_count": 1,
     "metadata": {},
     "output_type": "execute_result"
    }
   ],
   "source": [
    "import numpy as np\n",
    "import pandas as pd\n",
    "import matplotlib.pyplot as plt\n",
    "from sklearn.model_selection import cross_val_score\n",
    "from sklearn import neighbors\n",
    "from sklearn.metrics import make_scorer,recall_score,precision_score\n",
    "\n",
    "\n",
    "import pandas as pd\n",
    "df=pd.read_csv(\"diamonds.csv\",index_col=None).iloc[:, 1:]\n",
    "replaceval={\"color\":{\"D\": 7,\"E\": 6,\"F\": 5,\"G\": 4,\"H\": 3,\"I\": 2,\"J\": 1},\n",
    "           \"cut\":{\"Fair\":1, \"Good\":2, \"Very Good\":3, \"Premium\":4, \"Ideal\":5},\n",
    "            \"clarity\":{\"FL\":11,\"IF\":10, \"VVS1\":9, \"VVS2\":8, \"VS1\":7, \"VS2\":6, \"SI1\":5, \"SI2\":4, \"I1\":3, \"I2\":2, \"I3\":1}\n",
    "           }\n",
    "df.replace(replaceval, inplace=True)    \n",
    "\n",
    "X=df[['carat', 'price', 'color', 'clarity', 'depth', 'table', 'x', 'y', 'z']]\n",
    "y=df['cut']\n",
    "for i in range(3,27,2):\n",
    "    print(\"K = \",i)\n",
    "    model = neighbors.KNeighborsClassifier(n_neighbors=i)\n",
    "    recallscore = make_scorer(recall_score, pos_label=None, average='macro')\n",
    "    precisionscore = make_scorer(precision_score, pos_label=None, average='macro')\n",
    "    scores = cross_val_score(model, X, y, cv=5, scoring='accuracy')\n",
    "    scores2= cross_val_score(model, X, y, cv=5, scoring=recallscore)\n",
    "    scores3= cross_val_score(model, X, y, cv=5, scoring=precisionscore)\n",
    "    print(\"Accuracy : \",scores)\n",
    "    print(\"Recall : \",scores2)\n",
    "    print(\"Precision : \",scores3)\n",
    "\n",
    "\n",
    "\"\"\"\n",
    "# average can take values from 'macro', 'micro', 'weighted' etc as specified above\n",
    "scorer = make_scorer(recall_score, pos_label=None, average='macro')\n",
    "results = model_selection.cross_val_score(estimator, X, Y, cv= kfold,scoring= scorer)\n",
    "\n",
    "\n",
    "from sklearn.model_selection import KFold\n",
    "from sklearn.metrics import mean_squared_error, r2_score\n",
    "\n",
    "r2_scores = []\n",
    "MSE_scores = []\n",
    "kf = KFold(n_splits=5)\n",
    "for train_index, test_index in kf.split(X):\n",
    "    X_train, X_test = X[train_index], X[test_index]\n",
    "    y_train, y_test = y[train_index], y[test_index]\n",
    "    model.fit(X_train, y_train)\n",
    "    y_pred = model.predict(X_test)\n",
    "    r2_scores.append(r2_score(y_pred, y_test))\n",
    "    MSE_scores.append(mean_squared_error(y_pred, y_test))\n",
    "print(\"KFold R2:\",r2_scores)\n",
    "print(\"KFold MSE:\",MSE_scores)\n",
    "\"\"\"\n",
    "\n"
   ]
  },
  {
   "cell_type": "markdown",
   "metadata": {},
   "source": []
  },
  {
   "cell_type": "markdown",
   "metadata": {
    "ExecuteTime": {
     "end_time": "2019-10-28T00:01:48.188040Z",
     "start_time": "2019-10-28T00:01:48.172420Z"
    }
   },
   "source": [
    "## kesimpulan\n",
    "KNN merupakan salah satu algoritma (model) pembelajaran mesin yang bersifat nonparametric yaitu model yang tidak mengasumsikan apa-apa mengenai distribusi instance di dalam dataset. Untuk mengklasifikasi instance x, definisikan fungsi untuk menghitung jarak antar-instance, menghitung jarak x dengan semua instance lainnya berdasarkan fungsi tersebut, dan menentukan kelas x sebagai kelas yang paling banyak muncul dalam k instance terdekat.\n"
   ]
  }
 ],
 "metadata": {
  "kernelspec": {
   "display_name": "Python 3",
   "language": "python",
   "name": "python3"
  },
  "language_info": {
   "codemirror_mode": {
    "name": "ipython",
    "version": 3
   },
   "file_extension": ".py",
   "mimetype": "text/x-python",
   "name": "python",
   "nbconvert_exporter": "python",
   "pygments_lexer": "ipython3",
   "version": "3.7.3"
  }
 },
 "nbformat": 4,
 "nbformat_minor": 2
}
